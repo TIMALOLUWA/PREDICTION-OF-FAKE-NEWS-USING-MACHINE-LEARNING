{
  "nbformat": 4,
  "nbformat_minor": 0,
  "metadata": {
    "colab": {
      "name": "tempdeployment.ipynb",
      "provenance": [],
      "authorship_tag": "ABX9TyPlxflE7P/a2p4R6uvGRx1U",
      "include_colab_link": true
    },
    "kernelspec": {
      "name": "python3",
      "display_name": "Python 3"
    },
    "language_info": {
      "name": "python"
    }
  },
  "cells": [
    {
      "cell_type": "markdown",
      "metadata": {
        "id": "view-in-github",
        "colab_type": "text"
      },
      "source": [
        "<a href=\"https://colab.research.google.com/github/Amaan-Tamboli/Real-FakeNewsDetection/blob/main/tempdeployment.ipynb\" target=\"_parent\"><img src=\"https://colab.research.google.com/assets/colab-badge.svg\" alt=\"Open In Colab\"/></a>"
      ]
    },
    {
      "cell_type": "code",
      "execution_count": 2,
      "metadata": {
        "id": "NZvylA2fDrtd"
      },
      "outputs": [],
      "source": [
        "# Temporary deployment through streamlit\n",
        "# Installing streamlit\n",
        "!pip install streamlit --quiet"
      ]
    },
    {
      "cell_type": "code",
      "source": [
        "%%writefile app.py\n",
        "import streamlit as st\n",
        "import joblib\n",
        "model = joblib.load('Real-Fake')\n",
        "st.title('Real-Fake News Detection')\n",
        "ip = st.text_input('Enter the message : ')\n",
        "st.subheader('Note:- ')\n",
        "st.caption('The input format should be : title - text')\n",
        "op = model.predict([ip])\n",
        "if st.button('Predict'):\n",
        "  st.title(op[0])"
      ],
      "metadata": {
        "colab": {
          "base_uri": "https://localhost:8080/"
        },
        "id": "YZE4n7vHD7Dv",
        "outputId": "3e68a1f7-02e7-437f-d8a7-b4ac00b03c21"
      },
      "execution_count": 12,
      "outputs": [
        {
          "output_type": "stream",
          "name": "stdout",
          "text": [
            "Overwriting app.py\n"
          ]
        }
      ]
    },
    {
      "cell_type": "code",
      "source": [
        "# Don't forget to turn off browsing protection of your anti virus\n",
        "!streamlit run app.py & npx localtunnel --port 8501\n",
        "# As the model is quite big it takes time to load the website "
      ],
      "metadata": {
        "colab": {
          "base_uri": "https://localhost:8080/"
        },
        "id": "bex74t6mFiTq",
        "outputId": "98a98270-a956-49a5-f027-943efd5e8118"
      },
      "execution_count": 13,
      "outputs": [
        {
          "output_type": "stream",
          "name": "stdout",
          "text": [
            "2022-07-08 09:38:03.436 INFO    numexpr.utils: NumExpr defaulting to 2 threads.\n",
            "\u001b[K\u001b[?25hnpx: installed 22 in 2.694s\n",
            "\u001b[0m\n",
            "\u001b[34m\u001b[1m  You can now view your Streamlit app in your browser.\u001b[0m\n",
            "\u001b[0m\n",
            "\u001b[34m  Network URL: \u001b[0m\u001b[1mhttp://172.28.0.2:8501\u001b[0m\n",
            "\u001b[34m  External URL: \u001b[0m\u001b[1mhttp://34.85.162.142:8501\u001b[0m\n",
            "\u001b[0m\n",
            "your url is: https://nasty-falcons-find-34-85-162-142.loca.lt\n",
            "\u001b[34m  Stopping...\u001b[0m\n",
            "^C\n"
          ]
        }
      ]
    },
    {
      "cell_type": "code",
      "source": [
        ""
      ],
      "metadata": {
        "id": "dNsCg7WOFjki"
      },
      "execution_count": null,
      "outputs": []
    }
  ]
}
